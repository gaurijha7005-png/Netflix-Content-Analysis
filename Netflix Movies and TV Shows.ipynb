{
 "cells": [
  {
   "cell_type": "raw",
   "id": "c5414b1f-7bc8-4130-bcc1-54760c3f2a9f",
   "metadata": {},
   "source": [
    "PROJECT"
   ]
  },
  {
   "cell_type": "code",
   "execution_count": null,
   "id": "53e68d95-a0cd-454c-9336-722cd8c7984e",
   "metadata": {},
   "outputs": [],
   "source": [
    "• Load the NETFLIX dataset into a\n",
    "Pandas DataFrame."
   ]
  },
  {
   "cell_type": "code",
   "execution_count": 36,
   "id": "06af8a10-b51b-4af8-9db5-9de2c8366c91",
   "metadata": {},
   "outputs": [],
   "source": [
    "import pandas as pd"
   ]
  },
  {
   "cell_type": "code",
   "execution_count": 37,
   "id": "e4f8f7bd-9fe7-4b29-af12-9599787657c7",
   "metadata": {},
   "outputs": [],
   "source": [
    "import matplotlib.pyplot as plt"
   ]
  },
  {
   "cell_type": "code",
   "execution_count": 38,
   "id": "e1494e97-9554-4fa9-8a5f-f57707b8be66",
   "metadata": {},
   "outputs": [],
   "source": [
    "import seaborn as sns"
   ]
  },
  {
   "cell_type": "code",
   "execution_count": 2,
   "id": "6b4b192e-76bc-4059-89b4-9c8d8ae084b6",
   "metadata": {},
   "outputs": [],
   "source": [
    "Netflix=pd.read_csv(\"netflix dataset.csv\")"
   ]
  },
  {
   "cell_type": "raw",
   "id": "fa656168-e0a6-4ec7-b068-2caebb9e0994",
   "metadata": {},
   "source": [
    "• Display the first 5 rows of the\n",
    "dataset to get an overview."
   ]
  },
  {
   "cell_type": "code",
   "execution_count": 39,
   "id": "8b8c57d8-02f4-4246-8e77-18b6a617b8b0",
   "metadata": {},
   "outputs": [
    {
     "data": {
      "text/html": [
       "<div>\n",
       "<style scoped>\n",
       "    .dataframe tbody tr th:only-of-type {\n",
       "        vertical-align: middle;\n",
       "    }\n",
       "\n",
       "    .dataframe tbody tr th {\n",
       "        vertical-align: top;\n",
       "    }\n",
       "\n",
       "    .dataframe thead th {\n",
       "        text-align: right;\n",
       "    }\n",
       "</style>\n",
       "<table border=\"1\" class=\"dataframe\">\n",
       "  <thead>\n",
       "    <tr style=\"text-align: right;\">\n",
       "      <th></th>\n",
       "      <th>show_id</th>\n",
       "      <th>type</th>\n",
       "      <th>title</th>\n",
       "      <th>director</th>\n",
       "      <th>cast</th>\n",
       "      <th>country</th>\n",
       "      <th>date_added</th>\n",
       "      <th>release_year</th>\n",
       "      <th>rating</th>\n",
       "      <th>duration</th>\n",
       "      <th>listed_in</th>\n",
       "      <th>description</th>\n",
       "      <th>year_added</th>\n",
       "    </tr>\n",
       "  </thead>\n",
       "  <tbody>\n",
       "    <tr>\n",
       "      <th>0</th>\n",
       "      <td>s1</td>\n",
       "      <td>Movie</td>\n",
       "      <td>Dick Johnson Is Dead</td>\n",
       "      <td>Kirsten Johnson</td>\n",
       "      <td>NaN</td>\n",
       "      <td>United States</td>\n",
       "      <td>2021-09-25</td>\n",
       "      <td>2020</td>\n",
       "      <td>PG-13</td>\n",
       "      <td>90 min</td>\n",
       "      <td>Documentaries</td>\n",
       "      <td>As her father nears the end of his life, filmm...</td>\n",
       "      <td>2021.0</td>\n",
       "    </tr>\n",
       "    <tr>\n",
       "      <th>1</th>\n",
       "      <td>s2</td>\n",
       "      <td>TV Show</td>\n",
       "      <td>Blood &amp; Water</td>\n",
       "      <td>NaN</td>\n",
       "      <td>Ama Qamata, Khosi Ngema, Gail Mabalane, Thaban...</td>\n",
       "      <td>South Africa</td>\n",
       "      <td>2021-09-24</td>\n",
       "      <td>2021</td>\n",
       "      <td>TV-MA</td>\n",
       "      <td>2 Seasons</td>\n",
       "      <td>International TV Shows, TV Dramas, TV Mysteries</td>\n",
       "      <td>After crossing paths at a party, a Cape Town t...</td>\n",
       "      <td>2021.0</td>\n",
       "    </tr>\n",
       "    <tr>\n",
       "      <th>2</th>\n",
       "      <td>s3</td>\n",
       "      <td>TV Show</td>\n",
       "      <td>Ganglands</td>\n",
       "      <td>Julien Leclercq</td>\n",
       "      <td>Sami Bouajila, Tracy Gotoas, Samuel Jouy, Nabi...</td>\n",
       "      <td>NaN</td>\n",
       "      <td>2021-09-24</td>\n",
       "      <td>2021</td>\n",
       "      <td>TV-MA</td>\n",
       "      <td>1 Season</td>\n",
       "      <td>Crime TV Shows, International TV Shows, TV Act...</td>\n",
       "      <td>To protect his family from a powerful drug lor...</td>\n",
       "      <td>2021.0</td>\n",
       "    </tr>\n",
       "    <tr>\n",
       "      <th>3</th>\n",
       "      <td>s4</td>\n",
       "      <td>TV Show</td>\n",
       "      <td>Jailbirds New Orleans</td>\n",
       "      <td>NaN</td>\n",
       "      <td>NaN</td>\n",
       "      <td>NaN</td>\n",
       "      <td>2021-09-24</td>\n",
       "      <td>2021</td>\n",
       "      <td>TV-MA</td>\n",
       "      <td>1 Season</td>\n",
       "      <td>Docuseries, Reality TV</td>\n",
       "      <td>Feuds, flirtations and toilet talk go down amo...</td>\n",
       "      <td>2021.0</td>\n",
       "    </tr>\n",
       "    <tr>\n",
       "      <th>4</th>\n",
       "      <td>s5</td>\n",
       "      <td>TV Show</td>\n",
       "      <td>Kota Factory</td>\n",
       "      <td>NaN</td>\n",
       "      <td>Mayur More, Jitendra Kumar, Ranjan Raj, Alam K...</td>\n",
       "      <td>India</td>\n",
       "      <td>2021-09-24</td>\n",
       "      <td>2021</td>\n",
       "      <td>TV-MA</td>\n",
       "      <td>2 Seasons</td>\n",
       "      <td>International TV Shows, Romantic TV Shows, TV ...</td>\n",
       "      <td>In a city of coaching centers known to train I...</td>\n",
       "      <td>2021.0</td>\n",
       "    </tr>\n",
       "  </tbody>\n",
       "</table>\n",
       "</div>"
      ],
      "text/plain": [
       "  show_id     type                  title         director  \\\n",
       "0      s1    Movie   Dick Johnson Is Dead  Kirsten Johnson   \n",
       "1      s2  TV Show          Blood & Water              NaN   \n",
       "2      s3  TV Show              Ganglands  Julien Leclercq   \n",
       "3      s4  TV Show  Jailbirds New Orleans              NaN   \n",
       "4      s5  TV Show           Kota Factory              NaN   \n",
       "\n",
       "                                                cast        country  \\\n",
       "0                                                NaN  United States   \n",
       "1  Ama Qamata, Khosi Ngema, Gail Mabalane, Thaban...   South Africa   \n",
       "2  Sami Bouajila, Tracy Gotoas, Samuel Jouy, Nabi...            NaN   \n",
       "3                                                NaN            NaN   \n",
       "4  Mayur More, Jitendra Kumar, Ranjan Raj, Alam K...          India   \n",
       "\n",
       "  date_added  release_year rating   duration  \\\n",
       "0 2021-09-25          2020  PG-13     90 min   \n",
       "1 2021-09-24          2021  TV-MA  2 Seasons   \n",
       "2 2021-09-24          2021  TV-MA   1 Season   \n",
       "3 2021-09-24          2021  TV-MA   1 Season   \n",
       "4 2021-09-24          2021  TV-MA  2 Seasons   \n",
       "\n",
       "                                           listed_in  \\\n",
       "0                                      Documentaries   \n",
       "1    International TV Shows, TV Dramas, TV Mysteries   \n",
       "2  Crime TV Shows, International TV Shows, TV Act...   \n",
       "3                             Docuseries, Reality TV   \n",
       "4  International TV Shows, Romantic TV Shows, TV ...   \n",
       "\n",
       "                                         description  year_added  \n",
       "0  As her father nears the end of his life, filmm...      2021.0  \n",
       "1  After crossing paths at a party, a Cape Town t...      2021.0  \n",
       "2  To protect his family from a powerful drug lor...      2021.0  \n",
       "3  Feuds, flirtations and toilet talk go down amo...      2021.0  \n",
       "4  In a city of coaching centers known to train I...      2021.0  "
      ]
     },
     "execution_count": 39,
     "metadata": {},
     "output_type": "execute_result"
    }
   ],
   "source": [
    "Netflix.head()"
   ]
  },
  {
   "cell_type": "raw",
   "id": "d10d295b-cb99-4834-a05f-edd311c9e7eb",
   "metadata": {},
   "source": [
    "• Provide basic information about\n",
    "the dataset using the info() method"
   ]
  },
  {
   "cell_type": "code",
   "execution_count": 4,
   "id": "825437ad-1d24-4584-b33a-b6304c1af1ee",
   "metadata": {},
   "outputs": [
    {
     "name": "stdout",
     "output_type": "stream",
     "text": [
      "<class 'pandas.core.frame.DataFrame'>\n",
      "RangeIndex: 8807 entries, 0 to 8806\n",
      "Data columns (total 12 columns):\n",
      " #   Column        Non-Null Count  Dtype \n",
      "---  ------        --------------  ----- \n",
      " 0   show_id       8807 non-null   object\n",
      " 1   type          8807 non-null   object\n",
      " 2   title         8807 non-null   object\n",
      " 3   director      6173 non-null   object\n",
      " 4   cast          7982 non-null   object\n",
      " 5   country       7976 non-null   object\n",
      " 6   date_added    8797 non-null   object\n",
      " 7   release_year  8807 non-null   int64 \n",
      " 8   rating        8803 non-null   object\n",
      " 9   duration      8804 non-null   object\n",
      " 10  listed_in     8807 non-null   object\n",
      " 11  description   8807 non-null   object\n",
      "dtypes: int64(1), object(11)\n",
      "memory usage: 825.8+ KB\n"
     ]
    }
   ],
   "source": [
    "Netflix.info()"
   ]
  },
  {
   "cell_type": "raw",
   "id": "d5d0634c-e309-4382-99ae-1db7619c656b",
   "metadata": {},
   "source": [
    "• How is Netflix content distributed \n",
    "across different countries?"
   ]
  },
  {
   "cell_type": "code",
   "execution_count": 10,
   "id": "b43e90dc-7331-48e3-bb13-264dfe722cac",
   "metadata": {},
   "outputs": [],
   "source": [
    "top_country=Netflix[\"country\"].value_counts().head(10)"
   ]
  },
  {
   "cell_type": "code",
   "execution_count": 11,
   "id": "885621f7-1631-4fd1-badb-ee155515eea5",
   "metadata": {},
   "outputs": [
    {
     "name": "stdout",
     "output_type": "stream",
     "text": [
      "country\n",
      "United States     2818\n",
      "India              972\n",
      "United Kingdom     419\n",
      "Japan              245\n",
      "South Korea        199\n",
      "Canada             181\n",
      "Spain              145\n",
      "France             124\n",
      "Mexico             110\n",
      "Egypt              106\n",
      "Name: count, dtype: int64\n"
     ]
    }
   ],
   "source": [
    "print(top_country)"
   ]
  },
  {
   "cell_type": "raw",
   "id": "4274c3ec-ebbd-4b3e-a8cc-5d9b5f67f6db",
   "metadata": {},
   "source": [
    "• Identify and count the number of\n",
    "missing values in each column."
   ]
  },
  {
   "cell_type": "code",
   "execution_count": 40,
   "id": "d4b75ac2-b5ac-4308-a7d1-630ee1b5fff2",
   "metadata": {},
   "outputs": [
    {
     "data": {
      "text/plain": [
       "show_id            0\n",
       "type               0\n",
       "title              0\n",
       "director        2634\n",
       "cast             825\n",
       "country          831\n",
       "date_added        98\n",
       "release_year       0\n",
       "rating             4\n",
       "duration           3\n",
       "listed_in          0\n",
       "description        0\n",
       "year_added        98\n",
       "dtype: int64"
      ]
     },
     "execution_count": 40,
     "metadata": {},
     "output_type": "execute_result"
    }
   ],
   "source": [
    "Netflix.isnull().sum()"
   ]
  },
  {
   "cell_type": "raw",
   "id": "6e1f1c02-0b3e-44d1-821c-7bfb654b2509",
   "metadata": {},
   "source": [
    "• Decide on an appropriate strategy\n",
    "for handling missing values."
   ]
  },
  {
   "cell_type": "code",
   "execution_count": 45,
   "id": "3865e607-b2f1-43fd-a945-4e4099461e06",
   "metadata": {},
   "outputs": [],
   "source": [
    "Netflix[\"country\"] = Netflix[\"country\"].fillna(\"unknown\")\n",
    "Netflix[\"cast\"] = Netflix[\"cast\"].fillna(\"Not specified\")\n",
    "Netflix[\"director\"] = Netflix[\"director\"].fillna(\"Not specified\")"
   ]
  },
  {
   "cell_type": "code",
   "execution_count": 46,
   "id": "a668f9c1-89ba-40c0-8997-73b76af79522",
   "metadata": {},
   "outputs": [],
   "source": [
    "Netflix = Netflix.dropna(subset=['date_added', 'rating', 'duration'])"
   ]
  },
  {
   "cell_type": "code",
   "execution_count": 47,
   "id": "37b4407d-f408-41f0-829e-1ae12ad995f7",
   "metadata": {},
   "outputs": [
    {
     "data": {
      "text/plain": [
       "show_id         0\n",
       "type            0\n",
       "title           0\n",
       "director        0\n",
       "cast            0\n",
       "country         0\n",
       "date_added      0\n",
       "release_year    0\n",
       "rating          0\n",
       "duration        0\n",
       "listed_in       0\n",
       "description     0\n",
       "year_added      0\n",
       "dtype: int64"
      ]
     },
     "execution_count": 47,
     "metadata": {},
     "output_type": "execute_result"
    }
   ],
   "source": [
    "Netflix.isnull().sum()"
   ]
  },
  {
   "cell_type": "raw",
   "id": "28d17195-5451-49e3-ba9a-05145c7e7fdf",
   "metadata": {},
   "source": [
    "• Generate descriptive statistics for\n",
    "the numerical columns using the\n",
    "describe() method."
   ]
  },
  {
   "cell_type": "code",
   "execution_count": 41,
   "id": "8207b8fe-5fd8-4cb5-ade2-d9de2fed86e6",
   "metadata": {},
   "outputs": [
    {
     "data": {
      "text/html": [
       "<div>\n",
       "<style scoped>\n",
       "    .dataframe tbody tr th:only-of-type {\n",
       "        vertical-align: middle;\n",
       "    }\n",
       "\n",
       "    .dataframe tbody tr th {\n",
       "        vertical-align: top;\n",
       "    }\n",
       "\n",
       "    .dataframe thead th {\n",
       "        text-align: right;\n",
       "    }\n",
       "</style>\n",
       "<table border=\"1\" class=\"dataframe\">\n",
       "  <thead>\n",
       "    <tr style=\"text-align: right;\">\n",
       "      <th></th>\n",
       "      <th>date_added</th>\n",
       "      <th>release_year</th>\n",
       "      <th>year_added</th>\n",
       "    </tr>\n",
       "  </thead>\n",
       "  <tbody>\n",
       "    <tr>\n",
       "      <th>count</th>\n",
       "      <td>8709</td>\n",
       "      <td>8807.000000</td>\n",
       "      <td>8709.000000</td>\n",
       "    </tr>\n",
       "    <tr>\n",
       "      <th>mean</th>\n",
       "      <td>2019-05-23 01:45:29.452290816</td>\n",
       "      <td>2014.180198</td>\n",
       "      <td>2018.887932</td>\n",
       "    </tr>\n",
       "    <tr>\n",
       "      <th>min</th>\n",
       "      <td>2008-01-01 00:00:00</td>\n",
       "      <td>1925.000000</td>\n",
       "      <td>2008.000000</td>\n",
       "    </tr>\n",
       "    <tr>\n",
       "      <th>25%</th>\n",
       "      <td>2018-04-20 00:00:00</td>\n",
       "      <td>2013.000000</td>\n",
       "      <td>2018.000000</td>\n",
       "    </tr>\n",
       "    <tr>\n",
       "      <th>50%</th>\n",
       "      <td>2019-07-12 00:00:00</td>\n",
       "      <td>2017.000000</td>\n",
       "      <td>2019.000000</td>\n",
       "    </tr>\n",
       "    <tr>\n",
       "      <th>75%</th>\n",
       "      <td>2020-08-26 00:00:00</td>\n",
       "      <td>2019.000000</td>\n",
       "      <td>2020.000000</td>\n",
       "    </tr>\n",
       "    <tr>\n",
       "      <th>max</th>\n",
       "      <td>2021-09-25 00:00:00</td>\n",
       "      <td>2021.000000</td>\n",
       "      <td>2021.000000</td>\n",
       "    </tr>\n",
       "    <tr>\n",
       "      <th>std</th>\n",
       "      <td>NaN</td>\n",
       "      <td>8.819312</td>\n",
       "      <td>1.567961</td>\n",
       "    </tr>\n",
       "  </tbody>\n",
       "</table>\n",
       "</div>"
      ],
      "text/plain": [
       "                          date_added  release_year   year_added\n",
       "count                           8709   8807.000000  8709.000000\n",
       "mean   2019-05-23 01:45:29.452290816   2014.180198  2018.887932\n",
       "min              2008-01-01 00:00:00   1925.000000  2008.000000\n",
       "25%              2018-04-20 00:00:00   2013.000000  2018.000000\n",
       "50%              2019-07-12 00:00:00   2017.000000  2019.000000\n",
       "75%              2020-08-26 00:00:00   2019.000000  2020.000000\n",
       "max              2021-09-25 00:00:00   2021.000000  2021.000000\n",
       "std                              NaN      8.819312     1.567961"
      ]
     },
     "execution_count": 41,
     "metadata": {},
     "output_type": "execute_result"
    }
   ],
   "source": [
    "Netflix.describe()"
   ]
  },
  {
   "cell_type": "raw",
   "id": "c364fe83-f556-4e25-b831-f57e5697b380",
   "metadata": {},
   "source": [
    "• Analyze the average number of titles\n",
    "added each year by content type on Netflix"
   ]
  },
  {
   "cell_type": "code",
   "execution_count": 42,
   "id": "e7e1a965-be67-4090-a0f0-f9999943c80c",
   "metadata": {},
   "outputs": [],
   "source": [
    "type_year = Netflix.groupby(['year_added', 'type']).size().unstack().fillna(0)\n",
    "average_by_type = type_year.mean()"
   ]
  },
  {
   "cell_type": "code",
   "execution_count": 43,
   "id": "79b9a9ed-fb3d-47e1-83e9-588f88c592e0",
   "metadata": {},
   "outputs": [
    {
     "data": {
      "text/html": [
       "<div>\n",
       "<style scoped>\n",
       "    .dataframe tbody tr th:only-of-type {\n",
       "        vertical-align: middle;\n",
       "    }\n",
       "\n",
       "    .dataframe tbody tr th {\n",
       "        vertical-align: top;\n",
       "    }\n",
       "\n",
       "    .dataframe thead th {\n",
       "        text-align: right;\n",
       "    }\n",
       "</style>\n",
       "<table border=\"1\" class=\"dataframe\">\n",
       "  <thead>\n",
       "    <tr style=\"text-align: right;\">\n",
       "      <th>type</th>\n",
       "      <th>Movie</th>\n",
       "      <th>TV Show</th>\n",
       "    </tr>\n",
       "    <tr>\n",
       "      <th>year_added</th>\n",
       "      <th></th>\n",
       "      <th></th>\n",
       "    </tr>\n",
       "  </thead>\n",
       "  <tbody>\n",
       "    <tr>\n",
       "      <th>2008.0</th>\n",
       "      <td>1.0</td>\n",
       "      <td>1.0</td>\n",
       "    </tr>\n",
       "    <tr>\n",
       "      <th>2009.0</th>\n",
       "      <td>2.0</td>\n",
       "      <td>0.0</td>\n",
       "    </tr>\n",
       "    <tr>\n",
       "      <th>2010.0</th>\n",
       "      <td>1.0</td>\n",
       "      <td>0.0</td>\n",
       "    </tr>\n",
       "    <tr>\n",
       "      <th>2011.0</th>\n",
       "      <td>13.0</td>\n",
       "      <td>0.0</td>\n",
       "    </tr>\n",
       "    <tr>\n",
       "      <th>2012.0</th>\n",
       "      <td>3.0</td>\n",
       "      <td>0.0</td>\n",
       "    </tr>\n",
       "    <tr>\n",
       "      <th>2013.0</th>\n",
       "      <td>6.0</td>\n",
       "      <td>4.0</td>\n",
       "    </tr>\n",
       "    <tr>\n",
       "      <th>2014.0</th>\n",
       "      <td>19.0</td>\n",
       "      <td>4.0</td>\n",
       "    </tr>\n",
       "    <tr>\n",
       "      <th>2015.0</th>\n",
       "      <td>56.0</td>\n",
       "      <td>17.0</td>\n",
       "    </tr>\n",
       "    <tr>\n",
       "      <th>2016.0</th>\n",
       "      <td>253.0</td>\n",
       "      <td>165.0</td>\n",
       "    </tr>\n",
       "    <tr>\n",
       "      <th>2017.0</th>\n",
       "      <td>839.0</td>\n",
       "      <td>325.0</td>\n",
       "    </tr>\n",
       "    <tr>\n",
       "      <th>2018.0</th>\n",
       "      <td>1237.0</td>\n",
       "      <td>388.0</td>\n",
       "    </tr>\n",
       "    <tr>\n",
       "      <th>2019.0</th>\n",
       "      <td>1424.0</td>\n",
       "      <td>575.0</td>\n",
       "    </tr>\n",
       "    <tr>\n",
       "      <th>2020.0</th>\n",
       "      <td>1284.0</td>\n",
       "      <td>594.0</td>\n",
       "    </tr>\n",
       "    <tr>\n",
       "      <th>2021.0</th>\n",
       "      <td>993.0</td>\n",
       "      <td>505.0</td>\n",
       "    </tr>\n",
       "  </tbody>\n",
       "</table>\n",
       "</div>"
      ],
      "text/plain": [
       "type         Movie  TV Show\n",
       "year_added                 \n",
       "2008.0         1.0      1.0\n",
       "2009.0         2.0      0.0\n",
       "2010.0         1.0      0.0\n",
       "2011.0        13.0      0.0\n",
       "2012.0         3.0      0.0\n",
       "2013.0         6.0      4.0\n",
       "2014.0        19.0      4.0\n",
       "2015.0        56.0     17.0\n",
       "2016.0       253.0    165.0\n",
       "2017.0       839.0    325.0\n",
       "2018.0      1237.0    388.0\n",
       "2019.0      1424.0    575.0\n",
       "2020.0      1284.0    594.0\n",
       "2021.0       993.0    505.0"
      ]
     },
     "execution_count": 43,
     "metadata": {},
     "output_type": "execute_result"
    }
   ],
   "source": [
    "type_year"
   ]
  },
  {
   "cell_type": "code",
   "execution_count": 44,
   "id": "27240197-a4b9-4d6c-bed4-2350a9bec362",
   "metadata": {},
   "outputs": [
    {
     "data": {
      "text/plain": [
       "type\n",
       "Movie      437.928571\n",
       "TV Show    184.142857\n",
       "dtype: float64"
      ]
     },
     "execution_count": 44,
     "metadata": {},
     "output_type": "execute_result"
    }
   ],
   "source": [
    "average_by_type"
   ]
  },
  {
   "cell_type": "raw",
   "id": "4ed6892d-3f69-4489-8705-f10a7f08c2f3",
   "metadata": {},
   "source": [
    "• What is the distribution of content types on Netflix, \n",
    "and what percentage of titles are Movies vs TV Shows?"
   ]
  },
  {
   "cell_type": "code",
   "execution_count": 24,
   "id": "dc5f944b-6cd4-4f36-9216-0f263437529a",
   "metadata": {},
   "outputs": [],
   "source": [
    "type_counts = Netflix['type'].value_counts()\n",
    "type_percent = type_counts / type_counts.sum() * 100"
   ]
  },
  {
   "cell_type": "code",
   "execution_count": 23,
   "id": "8c9abfc9-48ff-43af-ba16-a828924a0c49",
   "metadata": {},
   "outputs": [
    {
     "data": {
      "text/plain": [
       "type\n",
       "Movie      6131\n",
       "TV Show    2676\n",
       "Name: count, dtype: int64"
      ]
     },
     "execution_count": 23,
     "metadata": {},
     "output_type": "execute_result"
    }
   ],
   "source": [
    "type_counts"
   ]
  },
  {
   "cell_type": "code",
   "execution_count": 25,
   "id": "2c70702b-2a27-4e06-af1e-8d5aac74d362",
   "metadata": {},
   "outputs": [
    {
     "data": {
      "text/plain": [
       "type\n",
       "Movie      69.615079\n",
       "TV Show    30.384921\n",
       "Name: count, dtype: float64"
      ]
     },
     "execution_count": 25,
     "metadata": {},
     "output_type": "execute_result"
    }
   ],
   "source": [
    "type_percent"
   ]
  },
  {
   "cell_type": "raw",
   "id": "b1cc0636-bf97-41c2-ba81-11a081afed77",
   "metadata": {},
   "source": [
    "• How many titles are added to Netflix each year, \n",
    "and what is the average and peak year for content additions?"
   ]
  },
  {
   "cell_type": "code",
   "execution_count": 30,
   "id": "2bb398e4-42d0-422c-afe4-6eaf27f48820",
   "metadata": {},
   "outputs": [],
   "source": [
    "titles_per_year = Netflix['year_added'].value_counts().sort_index()\n",
    "average_yearly = titles_per_year.mean()\n",
    "most_active_year = titles_per_year.idxmax()\n",
    "most_titles = titles_per_year.max()"
   ]
  },
  {
   "cell_type": "code",
   "execution_count": 32,
   "id": "d7ec7ae0-879a-400a-87fa-f77c7866bd0a",
   "metadata": {},
   "outputs": [
    {
     "data": {
      "text/plain": [
       "year_added\n",
       "2008.0       2\n",
       "2009.0       2\n",
       "2010.0       1\n",
       "2011.0      13\n",
       "2012.0       3\n",
       "2013.0      10\n",
       "2014.0      23\n",
       "2015.0      73\n",
       "2016.0     418\n",
       "2017.0    1164\n",
       "2018.0    1625\n",
       "2019.0    1999\n",
       "2020.0    1878\n",
       "2021.0    1498\n",
       "Name: count, dtype: int64"
      ]
     },
     "execution_count": 32,
     "metadata": {},
     "output_type": "execute_result"
    }
   ],
   "source": [
    "titles_per_year"
   ]
  },
  {
   "cell_type": "code",
   "execution_count": 33,
   "id": "bad06679-b6ee-4682-a252-364ff7160ac1",
   "metadata": {},
   "outputs": [
    {
     "data": {
      "text/plain": [
       "622.0714285714286"
      ]
     },
     "execution_count": 33,
     "metadata": {},
     "output_type": "execute_result"
    }
   ],
   "source": [
    "average_yearly"
   ]
  },
  {
   "cell_type": "code",
   "execution_count": 34,
   "id": "3e7cf421-d107-4f2c-a04c-4cd20236e9db",
   "metadata": {},
   "outputs": [
    {
     "data": {
      "text/plain": [
       "2019.0"
      ]
     },
     "execution_count": 34,
     "metadata": {},
     "output_type": "execute_result"
    }
   ],
   "source": [
    "most_active_year"
   ]
  },
  {
   "cell_type": "code",
   "execution_count": 35,
   "id": "fb6d99ed-54a7-475d-81f3-4917a183fb2d",
   "metadata": {},
   "outputs": [
    {
     "data": {
      "text/plain": [
       "1999"
      ]
     },
     "execution_count": 35,
     "metadata": {},
     "output_type": "execute_result"
    }
   ],
   "source": [
    "most_titles"
   ]
  },
  {
   "cell_type": "raw",
   "id": "3e80d526-a4ce-4b64-8fcc-8af145ca7512",
   "metadata": {},
   "source": [
    "• Create a barchart using\n",
    "matplotlib to show the top 10 countries content on netflix."
   ]
  },
  {
   "cell_type": "code",
   "execution_count": 13,
   "id": "bd90ca7e-69ca-4851-936c-b73d3a53db62",
   "metadata": {},
   "outputs": [
    {
     "name": "stderr",
     "output_type": "stream",
     "text": [
      "C:\\Users\\DELL\\AppData\\Local\\Temp\\ipykernel_21784\\3718900201.py:1: FutureWarning: \n",
      "\n",
      "Passing `palette` without assigning `hue` is deprecated and will be removed in v0.14.0. Assign the `y` variable to `hue` and set `legend=False` for the same effect.\n",
      "\n",
      "  sns.barplot(x=top_country.values,y=top_country.index,palette=\"rocket\")\n"
     ]
    },
    {
     "data": {
      "image/png": "[encoded data removed]",
      "text/plain": [
       "<Figure size 640x480 with 1 Axes>"
      ]
     },
     "metadata": {},
     "output_type": "display_data"
    }
   ],
   "source": [
    "sns.barplot(x=top_country.values,y=top_country.index,palette=\"rocket\")\n",
    "plt.title(\"TOP 10 COUNTRIES BY CONTENT COUNT ON NETFLIX\")\n",
    "plt.xlabel(\"NUMBER OF TITLES\")\n",
    "plt.ylabel(\"COUNTRY\")\n",
    "plt.show()"
   ]
  },
  {
   "cell_type": "raw",
   "id": "202a41f8-7293-4842-b0c4-a84893bbef13",
   "metadata": {},
   "source": [
    "• Examine the yearly distribution of \n",
    "new titles added to Netflix to identify growth patterns over time."
   ]
  },
  {
   "cell_type": "code",
   "execution_count": 18,
   "id": "055613d0-c2d0-4adb-922e-298f62543d78",
   "metadata": {},
   "outputs": [
    {
     "data": {
      "image/png": "[encoded data removed]",
      "text/plain": [
       "<Figure size 640x480 with 1 Axes>"
      ]
     },
     "metadata": {},
     "output_type": "display_data"
    }
   ],
   "source": [
    "content_by_year = Netflix.groupby([\"release_year\", \"type\"]).size().unstack().fillna(0)\n",
    "sns.lineplot(data=content_by_year)\n",
    "plt.title(\"NETFLIX CONTENT ADDED OVER THE YEAR\")\n",
    "plt.xlabel(\"YEAR\")\n",
    "plt.ylabel(\"NUMBER OF TITLE ADDED\")\n",
    "plt.legend(title=\"CONTENT TYPE\")\n",
    "plt.grid(True)\n",
    "plt.show()"
   ]
  },
  {
   "cell_type": "raw",
   "id": "74d2e94e-0806-4b14-8a7d-1592f979252e",
   "metadata": {},
   "source": [
    "• Create a line chart to show \n",
    "the number of new Netflix titles added each year."
   ]
  },
  {
   "cell_type": "code",
   "execution_count": 20,
   "id": "634a1fa5-a62b-49b9-94d1-ee1092e682b1",
   "metadata": {},
   "outputs": [
    {
     "data": {
      "image/png": "[encoded data removed]",
      "text/plain": [
       "<Figure size 640x480 with 1 Axes>"
      ]
     },
     "metadata": {},
     "output_type": "display_data"
    }
   ],
   "source": [
    "Netflix[\"date_added\"] = pd.to_datetime(Netflix[\"date_added\"], errors=\"coerce\")\n",
    "Netflix[\"year_added\"] = Netflix[\"date_added\"].dt.year\n",
    "yearly_counts = Netflix[\"year_added\"].value_counts().sort_index()\n",
    "yearly_counts.plot(kind=\"line\", marker=\"o\", color=\"coral\")\n",
    "plt.title(\"NUMBER OF TITLES ADDED TO NETFLIX EACH YEAR\")\n",
    "plt.xlabel(\"YEAR\")\n",
    "plt.ylabel(\"NUMBER OF TITLES\")\n",
    "plt.show()"
   ]
  },
  {
   "cell_type": "raw",
   "id": "7b613003-4d3e-4328-a91e-ccf4108e77cf",
   "metadata": {},
   "source": [
    "• Create a histogram to visualize the distribution \n",
    "of Netflix content by release year."
   ]
  },
  {
   "cell_type": "code",
   "execution_count": 49,
   "id": "2f0d3beb-d63a-4e50-8e79-f2838fe243ba",
   "metadata": {},
   "outputs": [
    {
     "data": {
      "image/png": "[encoded data removed]",
      "text/plain": [
       "<Figure size 640x480 with 1 Axes>"
      ]
     },
     "metadata": {},
     "output_type": "display_data"
    }
   ],
   "source": [
    "Netflix[\"release_year\"].plot(kind=\"hist\", bins=30, color=\"lightcoral\")\n",
    "plt.title(\"DISTRIBUTION OF CONTENT BY RELEASE YEAR\")\n",
    "plt.xlabel(\"RELEASE YEAR\")\n",
    "plt.show()"
   ]
  },
  {
   "cell_type": "raw",
   "id": "15db481c-7ddc-48e9-b9fc-b716e68e1795",
   "metadata": {},
   "source": [
    "• Create a box plot to analyze the distribution of movie durations\n",
    "across selected content ratings (PG, R, TV-MA, etc)"
   ]
  },
  {
   "cell_type": "code",
   "execution_count": 52,
   "id": "20ff63d5-b8ac-4c82-a5a1-9f03529986ec",
   "metadata": {},
   "outputs": [
    {
     "name": "stderr",
     "output_type": "stream",
     "text": [
      "<>:2: SyntaxWarning: invalid escape sequence '\\d'\n",
      "<>:2: SyntaxWarning: invalid escape sequence '\\d'\n",
      "C:\\Users\\DELL\\AppData\\Local\\Temp\\ipykernel_21784\\3928230175.py:2: SyntaxWarning: invalid escape sequence '\\d'\n",
      "  movies[\"duration_minutes\"] = movies[\"duration\"].str.extract(\"(\\d+)\").astype(float)\n"
     ]
    }
   ],
   "source": [
    "movies = Netflix[Netflix[\"type\"] == \"Movie\"].copy()\n",
    "movies[\"duration_minutes\"] = movies[\"duration\"].str.extract(\"(\\d+)\").astype(float)\n",
    "selected_ratings = [\"PG\", \"TV-MA\", \"R\", \"PG-13\", \"G\"]\n",
    "filtered_movies = movies[movies[\"rating\"].isin(selected_ratings)]"
   ]
  },
  {
   "cell_type": "code",
   "execution_count": 53,
   "id": "617683e7-92ca-4ebe-af50-e79b5be7716b",
   "metadata": {},
   "outputs": [
    {
     "data": {
      "image/png": "[encoded data removed]",
      "text/plain": [
       "<Figure size 640x480 with 1 Axes>"
      ]
     },
     "metadata": {},
     "output_type": "display_data"
    }
   ],
   "source": [
    "sns.boxplot(data=filtered_movies, x=\"rating\", y=\"duration_minutes\")\n",
    "plt.title(\"MOVIE DURATION BY SELECTED RATINGS\")\n",
    "plt.xticks(rotation=45)\n",
    "plt.show()"
   ]
  },
  {
   "cell_type": "raw",
   "id": "ed4a664a-80d9-4cc0-9db5-bc8cfdb0d6be",
   "metadata": {},
   "source": [
    "• SUMMARY OF NETFLIX CONTENT ANALYSIS"
   ]
  },
  {
   "cell_type": "raw",
   "id": "d6d60381-f29f-416c-b9cf-deaf54a43c71",
   "metadata": {},
   "source": [
    "This project provides a comprehensive exploration of Netflix’s content library, \n",
    "focusing on key aspects such as geographic distribution, content growth over time, \n",
    "release year trends,and movie duration patterns by content rating.\n",
    "1-TOP COUNTRIES CONTRIBUTING CONTENT:\n",
    "We looked at the top 10 countries that produce the most Netflix titles.This showed us that while the US has the biggest share,countries like India and the UK also contribute significantly, reflecting Netflix’s global presence.\n",
    "2-YEARLY GROWTH OF NEW TITLES:\n",
    "We examined how many new titles Netflix adds each year and noticed clear growth patterns.This helps us understand how Netflix has been expanding its content over time to attract and retain viewers.\n",
    "3-TREND OF TITLES ADDED OVER TIME:\n",
    "Using a line chart we tracked how the number of new titles changed year by year.This made it easy to spot the years when Netflix ramped up its additions,highlighting strategic periods of growth.\n",
    "4-DISTRIBUTION OF CONTENT BY RELEASE YEAR:\n",
    "We analyzed the release years of all titles to see if Netflix mostly offers recent content or includes older classics as well.This showed a healthy mix with many titles from the last decade but also some older films and shows.\n",
    "5"
   ]
  },
  {
   "cell_type": "code",
   "execution_count": null,
   "id": "9dac9290-33b8-4e7e-b292-b30d7ce78d70",
   "metadata": {},
   "outputs": [],
   "source": []
  },
  {
   "cell_type": "code",
   "execution_count": null,
   "id": "dc2281ef-b565-497d-b9ae-0c7336291f72",
   "metadata": {},
   "outputs": [],
   "source": []
  },
  {
   "cell_type": "code",
   "execution_count": null,
   "id": "bee973bb-800a-4328-8ddb-f542c1a70d83",
   "metadata": {},
   "outputs": [],
   "source": []
  },
  {
   "cell_type": "code",
   "execution_count": null,
   "id": "996f3c67-0531-4169-86c5-dac318cf038c",
   "metadata": {},
   "outputs": [],
   "source": []
  },
  {
   "cell_type": "code",
   "execution_count": null,
   "id": "11e2b940-cce6-4f6f-900f-7f2ba988ecb1",
   "metadata": {},
   "outputs": [],
   "source": []
  },
  {
   "cell_type": "code",
   "execution_count": null,
   "id": "dfe2e7c2-4f8d-4f34-93ea-69597bfa51d3",
   "metadata": {},
   "outputs": [],
   "source": []
  },
  {
   "cell_type": "code",
   "execution_count": null,
   "id": "076d8eb3-8596-4b27-a55c-2bc24304c491",
   "metadata": {},
   "outputs": [],
   "source": []
  },
  {
   "cell_type": "code",
   "execution_count": null,
   "id": "2937a8df-6646-4c3f-8c28-d1c3821c71e3",
   "metadata": {},
   "outputs": [],
   "source": []
  },
  {
   "cell_type": "code",
   "execution_count": null,
   "id": "8e83ad82-3b18-4b5e-811b-36a163ef98af",
   "metadata": {},
   "outputs": [],
   "source": []
  },
  {
   "cell_type": "code",
   "execution_count": null,
   "id": "c1b275c0-405a-49ea-bd6b-568fdf573f89",
   "metadata": {},
   "outputs": [],
   "source": []
  },
  {
   "cell_type": "code",
   "execution_count": null,
   "id": "2ca58674-889e-417d-b178-0c6bf2f5659e",
   "metadata": {},
   "outputs": [],
   "source": []
  },
  {
   "cell_type": "code",
   "execution_count": null,
   "id": "f8e07e60-62b4-42b9-b9df-882ac13efb5b",
   "metadata": {},
   "outputs": [],
   "source": []
  },
  {
   "cell_type": "code",
   "execution_count": null,
   "id": "34f3bf09-9081-44a1-b322-d610d54e2191",
   "metadata": {},
   "outputs": [],
   "source": []
  },
  {
   "cell_type": "code",
   "execution_count": null,
   "id": "d1356b39-374f-48c5-a0a8-45db0aa68158",
   "metadata": {},
   "outputs": [],
   "source": []
  }
 ],
 "metadata": {
  "kernelspec": {
   "display_name": "Python [conda env:base] *",
   "language": "python",
   "name": "conda-base-py"
  },
  "language_info": {
   "codemirror_mode": {
    "name": "ipython",
    "version": 3
   },
   "file_extension": ".py",
   "mimetype": "text/x-python",
   "name": "python",
   "nbconvert_exporter": "python",
   "pygments_lexer": "ipython3",
   "version": "3.12.7"
  }
 },
 "nbformat": 4,
 "nbformat_minor": 5
}
